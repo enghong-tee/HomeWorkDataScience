{
 "cells": [
  {
   "cell_type": "markdown",
   "id": "b9dd742b-341a-4e70-959e-6d0e343ddcc9",
   "metadata": {},
   "source": [
    "# My Jupyter Notebook on IBM Watson Studio"
   ]
  },
  {
   "cell_type": "markdown",
   "id": "d3bbe120-f2d2-4d12-9b3d-7d708c17e529",
   "metadata": {},
   "source": [
    "**Tee Eng Hong**\n",
    "\n",
    "Lecturer in College University"
   ]
  },
  {
   "cell_type": "markdown",
   "id": "9239bdf4-bcc8-490a-a2d2-8821ad0bd852",
   "metadata": {},
   "source": [
    "*I am interested in data science because I want to get something useful out of the data collected in my faculty*"
   ]
  },
  {
   "cell_type": "markdown",
   "id": "816ce3fd-0627-48fd-a282-ff9b8aa71034",
   "metadata": {},
   "source": [
    "### My code below is going to do 2 plus 2"
   ]
  },
  {
   "cell_type": "code",
   "execution_count": 2,
   "id": "ac5fef6f-2a8c-4695-9d0e-c38d896742d0",
   "metadata": {},
   "outputs": [
    {
     "data": {
      "text/plain": [
       "4"
      ]
     },
     "execution_count": 2,
     "metadata": {},
     "output_type": "execute_result"
    }
   ],
   "source": [
    "2+2"
   ]
  },
  {
   "cell_type": "markdown",
   "id": "96dbe36f-bdbd-4841-b476-e49c40d7512a",
   "metadata": {},
   "source": [
    "No. | Score | Student ID\n",
    "---|---|---\n",
    "1 | 100 | A0001\n",
    "2 | 89  | A0002\n",
    "\n",
    "---\n",
    "1. Please read questions carefully\n",
    "2. Check your answer\n",
    "\n",
    "* do step 1\n",
    "* reverse back 1 step\n"
   ]
  },
  {
   "cell_type": "code",
   "execution_count": null,
   "id": "49c9ae5e-2d50-4601-a558-4c1dcbef7e35",
   "metadata": {},
   "outputs": [],
   "source": []
  }
 ],
 "metadata": {
  "kernelspec": {
   "display_name": "Python 3",
   "language": "python",
   "name": "python3"
  },
  "language_info": {
   "codemirror_mode": {
    "name": "ipython",
    "version": 3
   },
   "file_extension": ".py",
   "mimetype": "text/x-python",
   "name": "python",
   "nbconvert_exporter": "python",
   "pygments_lexer": "ipython3",
   "version": "3.9.0"
  }
 },
 "nbformat": 4,
 "nbformat_minor": 5
}
